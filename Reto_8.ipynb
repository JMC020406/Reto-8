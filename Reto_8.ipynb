{
 "cells": [
  {
   "cell_type": "markdown",
   "metadata": {},
   "source": [
    "# RETO 8\n",
    "## Bucles 2"
   ]
  },
  {
   "cell_type": "markdown",
   "metadata": {},
   "source": [
    "### Punto 1 / Listado del 1 al 100 con sus respectivos cuadrados."
   ]
  },
  {
   "cell_type": "code",
   "execution_count": null,
   "metadata": {},
   "outputs": [],
   "source": [
    "def cuadradonumero (i=int)->int:\n",
    "    return (i**2)\n",
    "\n",
    "#numero del 1 al 100 y sus cuadrados\n",
    "\n",
    "if __name__ == \"__main__\":\n",
    "\n",
    "    i:int=1\n",
    "\n",
    "print(\"Lista de numeros del 1 al 100 y sus cuadrados:\")\n",
    "print(\"INICIO\")\n",
    "\n",
    "while i<=100:\n",
    "    cuadrado=cuadradonumero(i)\n",
    "    print(str(i)+\" , \"+str(cuadrado))\n",
    "    i+=1\n",
    "\n",
    "print (\"FIN\")"
   ]
  },
  {
   "cell_type": "markdown",
   "metadata": {},
   "source": [
    "### Punto 2 / Listado de numeros pares e impares del 1 hasta el 1000."
   ]
  },
  {
   "cell_type": "code",
   "execution_count": null,
   "metadata": {},
   "outputs": [],
   "source": [
    "#listado de numeros impares y pares\n",
    "\n",
    "i:int=1\n",
    "\n",
    "print(\"Listado de numeros impares del 1 hasta el 999:\")\n",
    "print(\"INICIO\")\n",
    "\n",
    "while i<1000:\n",
    "    if i % 2 != 0:\n",
    "        print(str(i))\n",
    "    i += 1\n",
    "\n",
    "print(\"FIN\")\n",
    "\n",
    "i -= 998\n",
    "\n",
    "print(\"Listado de numeros pares del 2 hasta el 1000:\")\n",
    "print(\"INICIO\")\n",
    "\n",
    "while i<=1000:\n",
    "    if i % 2 == 0:\n",
    "        print(str(i))\n",
    "    i += 1\n",
    "\n",
    "print(\"FIN\")"
   ]
  },
  {
   "cell_type": "markdown",
   "metadata": {},
   "source": [
    "### Punto 3 / Listado descendente de pares de un n hasta 2."
   ]
  },
  {
   "cell_type": "code",
   "execution_count": null,
   "metadata": {},
   "outputs": [],
   "source": [
    "#listado descendente de numero pares desde un n hasta el 2\n",
    "\n",
    "n=int(input(\"Ingrese un numero natural: \"))\n",
    "\n",
    "print(\"Listado de numeros pares descendentemente desde \"+str(n)+\" hasta 2:\")\n",
    "print(\"INICIO\")\n",
    "\n",
    "while n>=2:\n",
    "    if n % 2 == 0:\n",
    "        print(n)\n",
    "    n -= 1\n",
    "\n",
    "print(\"FIN\")"
   ]
  },
  {
   "cell_type": "markdown",
   "metadata": {},
   "source": [
    "### Punto 4 / Numeros del 1 a n cada uno con su factorial."
   ]
  },
  {
   "cell_type": "code",
   "execution_count": null,
   "metadata": {},
   "outputs": [],
   "source": [
    "# Listado del 1 hasta un n factorial\n",
    "\n",
    "num=int(input(\"Ingrese el numero natural del cual quiere saber su factorial: \"))\n",
    "i:int=1\n",
    "factorial:int=1\n",
    "\n",
    "print(\"Lista de factoriales de 1 hasta \"+str(num)+\":\")\n",
    "print(\"INICIO\")\n",
    "while i <= num:\n",
    "    factorial *= i\n",
    "    print (str(i)+\"! = \"+str(factorial))\n",
    "    i += 1\n",
    "\n",
    "print(\"FIN\")"
   ]
  },
  {
   "cell_type": "markdown",
   "metadata": {},
   "source": [
    "### Punto 5 / 2 elevado a la n con ciclos for."
   ]
  },
  {
   "cell_type": "code",
   "execution_count": null,
   "metadata": {},
   "outputs": [],
   "source": [
    "# Dos elevado a la n\n",
    "\n",
    "n=int(input(\"Ingrese el n al cual quiere elevar 2: \"))\n",
    "potencia : int = 1\n",
    "\n",
    "for i in range(n,n+1):\n",
    "    potencia *= 2**i\n",
    "\n",
    "print(\"Al elevar 2 a la \"+str(n)+\" nos da como resultado \"+str(potencia))"
   ]
  },
  {
   "cell_type": "markdown",
   "metadata": {},
   "source": [
    "### Punto 6 / Potencia de x a la n usando ciclos for y evitando el uso de la potencia."
   ]
  },
  {
   "cell_type": "code",
   "execution_count": null,
   "metadata": {},
   "outputs": [],
   "source": [
    "n=int(input(\"Ingrese un numero natural (exponente): \"))\n",
    "x=float(input(\"Ingrese un real (base): \"))\n",
    "potencia:int=1\n",
    "\n",
    "if n >= 0:\n",
    "    for n in range (1, n+1):\n",
    "        potencia = potencia * x\n",
    "\n",
    "    print(f\"La potencia de {x} elevado a la {n} es igual a {potencia}\")\n",
    "\n",
    "else:\n",
    "    print(f\"El valor {n} no es un natural\")"
   ]
  },
  {
   "cell_type": "markdown",
   "metadata": {},
   "source": [
    "### Punto 7 / Tablas de multiplicar del 1 al 9."
   ]
  },
  {
   "cell_type": "code",
   "execution_count": null,
   "metadata": {},
   "outputs": [],
   "source": [
    "print(\"Tablas de multiplicar del 1 al 9: \")\n",
    "for i in range (1, 10):\n",
    "    print()\n",
    "    print(f\"Tabla del {i}\")\n",
    "    for j in range (1, 10):\n",
    "        multiplicacion = i * j\n",
    "        print (f\"{i} x {j} = {multiplicacion}\")"
   ]
  },
  {
   "cell_type": "markdown",
   "metadata": {},
   "source": [
    "### Punto 8 / Sumatoria aproximada a la funcion exponencial."
   ]
  },
  {
   "cell_type": "code",
   "execution_count": null,
   "metadata": {},
   "outputs": [],
   "source": [
    "import math\n",
    "\n",
    "# Para que la aroximación tenga una desviación menor del 0.1% debe ser:\n",
    "# El x >= 5 y el n >= 12\n",
    "\n",
    "x=float(input(\"Ingrese el exponente: \"))\n",
    "n=int(input(\"Numero de terminos (máximo 170): \"))\n",
    "factorial:int=1\n",
    "termino:float=0\n",
    "sumatoria:float=0\n",
    "\n",
    "print(f\"Valor real = {math.e**x}\")\n",
    "\n",
    "for i in range (1, n+1):\n",
    "    factorial *= i\n",
    "    termino = (x**i)/factorial\n",
    "    sumatoria += termino\n",
    "\n",
    "print (f\"Valor aproximado = {sumatoria}\")\n",
    "\n",
    "diferencia = (sumatoria/(math.e**x))*100\n",
    "\n",
    "print (f\"Diferencia porcentual = {diferencia}\")"
   ]
  },
  {
   "cell_type": "markdown",
   "metadata": {},
   "source": [
    "### Puntos 9 y 10 / Sumatorias aproximadas de funcion Seno y funcion ArcTan.\n",
    "Sencillamente no se lograron hacer"
   ]
  }
 ],
 "metadata": {
  "kernelspec": {
   "display_name": "Python 3",
   "language": "python",
   "name": "python3"
  },
  "language_info": {
   "name": "python",
   "version": "3.11.8"
  }
 },
 "nbformat": 4,
 "nbformat_minor": 2
}
